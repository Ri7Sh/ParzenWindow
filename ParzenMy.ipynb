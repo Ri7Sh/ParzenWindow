{
 "cells": [
  {
   "cell_type": "markdown",
   "metadata": {},
   "source": [
    "# Dataset creation"
   ]
  },
  {
   "cell_type": "code",
   "execution_count": 2,
   "metadata": {},
   "outputs": [],
   "source": [
    "import random\n",
    "import math\n",
    "import matplotlib.pyplot as plt"
   ]
  },
  {
   "cell_type": "code",
   "execution_count": 3,
   "metadata": {},
   "outputs": [],
   "source": [
    "def generateVector(l = 0, r = 1000, count = 1000):\n",
    "    result = []\n",
    "    for i in range(0, count):\n",
    "        result.append(random.randrange(l, r))\n",
    "    return result"
   ]
  },
  {
   "cell_type": "code",
   "execution_count": 4,
   "metadata": {},
   "outputs": [],
   "source": [
    "def generateCoordinates(l = 0, r = 1000, count = 1000):\n",
    "    first = generateVector(l, r, count)\n",
    "    second = generateVector(l, r, count)\n",
    "    result = []\n",
    "    for i in range(0, count):\n",
    "        result.append((first[i], second[i]))\n",
    "    return result"
   ]
  },
  {
   "cell_type": "code",
   "execution_count": 5,
   "metadata": {},
   "outputs": [],
   "source": [
    "def splitToRanges(coordinatesLen, rangesCount):\n",
    "    result = []\n",
    "    for i in range(0, rangesCount):\n",
    "        l = int(coordinatesLen*(i/rangesCount))\n",
    "        if (i != 0):\n",
    "            l += 1\n",
    "        r = int(coordinatesLen*((i+1)/rangesCount))\n",
    "        if (i == rangesCount - 1):\n",
    "            r -= 1\n",
    "        result.append((l,r))\n",
    "    return result"
   ]
  },
  {
   "cell_type": "code",
   "execution_count": 6,
   "metadata": {},
   "outputs": [],
   "source": [
    "def clasifyRanges(ranges, classes):\n",
    "    result = []\n",
    "    for i in range(0, len(ranges)):\n",
    "        classifiedRange = (ranges[i][0],ranges[i][1],classes[i])\n",
    "        result.append(classifiedRange)\n",
    "    return result"
   ]
  },
  {
   "cell_type": "code",
   "execution_count": 7,
   "metadata": {},
   "outputs": [],
   "source": [
    "def defineClass(coordinate, classifiedRanges, defaultClass):\n",
    "    for i in range(0, len(classifiedRanges)):\n",
    "        classifiedRange = classifiedRanges[i]\n",
    "        x = coordinate[0]\n",
    "        y = coordinate[1]\n",
    "        lRange = classifiedRange[0]\n",
    "        rRange = classifiedRange[1]\n",
    "        xInRange = x >= lRange and x <= rRange\n",
    "        yInRange = y >= lRange and y <= rRange\n",
    "        if (xInRange and yInRange):\n",
    "            return classifiedRange[2]\n",
    "    return defaultClass"
   ]
  },
  {
   "cell_type": "code",
   "execution_count": 8,
   "metadata": {
    "scrolled": true
   },
   "outputs": [],
   "source": [
    "def classifyCoordinates(coordinates, classes, defaultClass):\n",
    "    ranges = splitToRanges(len(coordinates), len(classes))\n",
    "    classifiedRanges = clasifyRanges(ranges, classes)\n",
    "    classifiedCoordinates = []\n",
    "    for i in range(0, len(coordinates)):\n",
    "        coordinate = coordinates[i]\n",
    "        coordinatesClass = defineClass(coordinate, classifiedRanges, defaultClass)\n",
    "        classifiedCoordinates.append((coordinate, coordinatesClass))\n",
    "    return classifiedCoordinates"
   ]
  },
  {
   "cell_type": "code",
   "execution_count": 9,
   "metadata": {},
   "outputs": [],
   "source": [
    "def plotClassifiedCoordinates(classifiedCoordinates, colors):\n",
    "    for i in range(0, len(classifiedCoordinates)):\n",
    "        coordinate = classifiedCoordinates[i]\n",
    "        x, y = coordinate[0]\n",
    "        coordinateClass = coordinate[1]\n",
    "        color = colors[coordinateClass]\n",
    "        plt.scatter(x, y, color=color)"
   ]
  },
  {
   "cell_type": "code",
   "execution_count": 10,
   "metadata": {},
   "outputs": [],
   "source": [
    "red = [1,0,0]\n",
    "green = [0,1,0]\n",
    "blue = [0,0,1]\n",
    "colors = [red, green, blue]\n",
    "def getClassColor(classNumber):\n",
    "    return colors[classNumber]"
   ]
  },
  {
   "cell_type": "code",
   "execution_count": 11,
   "metadata": {},
   "outputs": [],
   "source": [
    "coordinates = generateCoordinates()"
   ]
  },
  {
   "cell_type": "code",
   "execution_count": 12,
   "metadata": {},
   "outputs": [],
   "source": [
    "classifiedCoordinates = classifyCoordinates(coordinates, [0, 1], 2)"
   ]
  },
  {
   "cell_type": "code",
   "execution_count": 13,
   "metadata": {},
   "outputs": [
    {
     "data": {
      "image/png": "[encoded data removed]",
      "text/plain": [
       "<Figure size 432x288 with 1 Axes>"
      ]
     },
     "metadata": {
      "needs_background": "light"
     },
     "output_type": "display_data"
    }
   ],
   "source": [
    "plotClassifiedCoordinates(classifiedCoordinates, colors)"
   ]
  },
  {
   "cell_type": "markdown",
   "metadata": {},
   "source": [
    "# Parzen Window"
   ]
  },
  {
   "cell_type": "code",
   "execution_count": 14,
   "metadata": {},
   "outputs": [],
   "source": [
    "def ker(x):\n",
    "    if (abs(x) <= 300):\n",
    "        return 1\n",
    "    else:\n",
    "        return 0"
   ]
  },
  {
   "cell_type": "code",
   "execution_count": 15,
   "metadata": {},
   "outputs": [],
   "source": [
    "def showWindow(classifiedCoordinates, targetCoordinate, distance):\n",
    "    filtered = fetchWindowPoints(classifiedCoordinates, targetCoordinate, distance)\n",
    "    for i in range(0, len(filtered)):\n",
    "        (x, y), coordinateClass = filtered[i]\n",
    "        color = colors[coordinateClass]\n",
    "        plt.scatter(x, y, color=color)\n",
    "    (targX, targY) = targetCoordinate\n",
    "    plt.scatter(targX, targY, color='red', marker='x')"
   ]
  },
  {
   "cell_type": "code",
   "execution_count": 16,
   "metadata": {},
   "outputs": [],
   "source": [
    "def fetchWindowPoints(classifiedCoordinates, targetCoordinate, distance):\n",
    "    return [*filter(lambda c: isCoordinateInRange(targetCoordinate, c[0], distance), classifiedCoordinates)]"
   ]
  },
  {
   "cell_type": "code",
   "execution_count": 17,
   "metadata": {},
   "outputs": [],
   "source": [
    "def countDistance(baseCoordinate, targetCoordinate):\n",
    "    xBase, yBase = baseCoordinate\n",
    "    xTarget, yTarget = targetCoordinate\n",
    "    dist = math.sqrt((xBase - xTarget)**2 + (yBase - yTarget)**2)\n",
    "    return dist"
   ]
  },
  {
   "cell_type": "code",
   "execution_count": 18,
   "metadata": {},
   "outputs": [],
   "source": [
    "def isCoordinateInRange(baseCoordinate, targetCoordinate, distance):\n",
    "    dist = countDistance(baseCoordinate, targetCoordinate)\n",
    "    return dist <= distance"
   ]
  },
  {
   "cell_type": "code",
   "execution_count": 19,
   "metadata": {},
   "outputs": [],
   "source": [
    "def isCoordinateInKerRange(baseCoordinate, targetCoordinate, distance):\n",
    "    dist = countDistance(baseCoordinate, targetCoordinate)\n",
    "    return ker(dist) == 1"
   ]
  },
  {
   "cell_type": "code",
   "execution_count": 20,
   "metadata": {},
   "outputs": [],
   "source": [
    "def fetchKerWindowPoints(classifiedCoordinates, targetCoordinate, distance):\n",
    "    return [*filter(lambda c: isCoordinateInKerRange(targetCoordinate, c[0], distance), classifiedCoordinates)]"
   ]
  },
  {
   "cell_type": "code",
   "execution_count": 21,
   "metadata": {},
   "outputs": [],
   "source": [
    "def showParzenWindow(classifiedCoordinates, targetCoordinate, distance):\n",
    "    filtered = fetchWindowPoints(classifiedCoordinates, targetCoordinate, distance)\n",
    "    filtered = fetchKerWindowPoints(filtered, targetCoordinate, distance)\n",
    "    for i in range(0, len(filtered)):\n",
    "        (x, y), coordinateClass = filtered[i]\n",
    "        color = colors[coordinateClass]\n",
    "        plt.scatter(x, y, color=color)\n",
    "    (targX, targY) = targetCoordinate\n",
    "    plt.scatter(targX, targY, color='red', marker='x')"
   ]
  },
  {
   "cell_type": "code",
   "execution_count": 22,
   "metadata": {},
   "outputs": [],
   "source": [
    "def getClassesFromClassifiedCoordinates(classifiedCoordinates):\n",
    "    return set([*map(lambda x: x[1], classifiedCoordinates)])"
   ]
  },
  {
   "cell_type": "code",
   "execution_count": 23,
   "metadata": {},
   "outputs": [],
   "source": [
    "def defineClassByParzenWindow(classifiedCoordinates, targetCoordinate, distance):\n",
    "    filtered = fetchWindowPoints(classifiedCoordinates, targetCoordinate, distance)\n",
    "    filtered = fetchKerWindowPoints(filtered, targetCoordinate, distance)\n",
    "    classes = getClassesFromClassifiedCoordinates(classifiedCoordinates)\n",
    "    classesMap = dict()\n",
    "    for c in classes:\n",
    "        classesMap[c] = 0\n",
    "    for classifiedCoordinate in classifiedCoordinates:\n",
    "        c = classifiedCoordinate[1]\n",
    "        classesMap[c] += 1\n",
    "    maxClassCount = 0\n",
    "    classes = [*classesMap.keys()]\n",
    "    maxClass = classes[0]\n",
    "    for c in classes:\n",
    "        if (classesMap[c] > maxClassCount):\n",
    "            maxClass = c\n",
    "            maxClassCount = classesMap[c]\n",
    "    return maxClass, maxClassCount"
   ]
  },
  {
   "cell_type": "code",
   "execution_count": 24,
   "metadata": {},
   "outputs": [
    {
     "data": {
      "image/png": "[encoded data removed]",
      "text/plain": [
       "<Figure size 432x288 with 1 Axes>"
      ]
     },
     "metadata": {
      "needs_background": "light"
     },
     "output_type": "display_data"
    }
   ],
   "source": [
    "showParzenWindow(classifiedCoordinates, (500,500), 500)"
   ]
  },
  {
   "cell_type": "code",
   "execution_count": 25,
   "metadata": {},
   "outputs": [
    {
     "name": "stdout",
     "output_type": "stream",
     "text": [
      "point (500, 500) belongs to class 2 which has 532 items and [0, 0, 1](R, G, B) color\n"
     ]
    }
   ],
   "source": [
    "point = (500,500)\n",
    "classNumber, itemsCount = defineClassByParzenWindow(classifiedCoordinates, point, 500)\n",
    "print(\"point {} belongs to class {} which has {} items and {}(R, G, B) color\".format(point, classNumber, itemsCount, getClassColor(classNumber)))"
   ]
  }
 ],
 "metadata": {
  "kernelspec": {
   "display_name": "Python 3",
   "language": "python",
   "name": "python3"
  },
  "language_info": {
   "codemirror_mode": {
    "name": "ipython",
    "version": 3
   },
   "file_extension": ".py",
   "mimetype": "text/x-python",
   "name": "python",
   "nbconvert_exporter": "python",
   "pygments_lexer": "ipython3",
   "version": "3.6.6"
  }
 },
 "nbformat": 4,
 "nbformat_minor": 2
}
